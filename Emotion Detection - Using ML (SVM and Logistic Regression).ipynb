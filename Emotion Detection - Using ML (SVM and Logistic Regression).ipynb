{
 "cells": [
  {
   "cell_type": "markdown",
   "id": "working-perception",
   "metadata": {},
   "source": [
    "### IMPORTING MODULES"
   ]
  },
  {
   "cell_type": "code",
   "execution_count": 2,
   "id": "acting-drain",
   "metadata": {},
   "outputs": [],
   "source": [
    "import numpy as np\n",
    "import pandas as pd\n",
    "import matplotlib.pyplot as plt\n",
    "from sklearn.model_selection import train_test_split\n",
    "from sklearn.metrics import accuracy_score"
   ]
  },
  {
   "cell_type": "markdown",
   "id": "independent-bottle",
   "metadata": {},
   "source": [
    "### DATA PREPARATION"
   ]
  },
  {
   "cell_type": "code",
   "execution_count": null,
   "id": "hourly-power",
   "metadata": {},
   "outputs": [],
   "source": [
    "import os\n",
    "path = os.listdir('CK+48')"
   ]
  },
  {
   "cell_type": "code",
   "execution_count": null,
   "id": "everyday-responsibility",
   "metadata": {},
   "outputs": [],
   "source": [
    "classes = {'anger':0,'contempt':1, 'disgust':2, 'fear':3, 'happy':4, 'sadness':5, 'surprise':6}"
   ]
  },
  {
   "cell_type": "code",
   "execution_count": null,
   "id": "given-riding",
   "metadata": {},
   "outputs": [],
   "source": [
    "import cv2\n",
    "X = []\n",
    "Y = []\n",
    "for cls in classes:\n",
    "    pth = 'CK+48/'+cls\n",
    "    for j in os.listdir(pth):\n",
    "        img = cv2.imread(pth+'/'+j,0)\n",
    "        img = cv2.resize(img, (200,200))\n",
    "        X.append(img)\n",
    "        Y.append(classes[cls])"
   ]
  },
  {
   "cell_type": "code",
   "execution_count": null,
   "id": "contained-singles",
   "metadata": {},
   "outputs": [],
   "source": [
    "X=np.array(X)\n",
    "Y=np.array(Y)"
   ]
  },
  {
   "cell_type": "code",
   "execution_count": null,
   "id": "bridal-sending",
   "metadata": {},
   "outputs": [],
   "source": [
    "X_updated = X.reshape(len(X),-1)"
   ]
  },
  {
   "cell_type": "code",
   "execution_count": null,
   "id": "congressional-magnet",
   "metadata": {},
   "outputs": [],
   "source": [
    "np.unique(Y)"
   ]
  },
  {
   "cell_type": "code",
   "execution_count": null,
   "id": "protective-offer",
   "metadata": {},
   "outputs": [],
   "source": [
    "pd.Series(Y).value_counts()"
   ]
  },
  {
   "cell_type": "code",
   "execution_count": null,
   "id": "secret-fruit",
   "metadata": {},
   "outputs": [],
   "source": [
    "X.shape, X_updated.shape"
   ]
  },
  {
   "cell_type": "markdown",
   "id": "criminal-milwaukee",
   "metadata": {},
   "source": [
    "### DATA VISUALIZATION"
   ]
  },
  {
   "cell_type": "code",
   "execution_count": null,
   "id": "accepting-arlington",
   "metadata": {},
   "outputs": [],
   "source": [
    "plt.imshow(X[0], cmap='gray')"
   ]
  },
  {
   "cell_type": "code",
   "execution_count": null,
   "id": "fundamental-thursday",
   "metadata": {},
   "outputs": [],
   "source": [
    "X_updated = X.reshape(len(X), -1)\n",
    "X_updated.shape"
   ]
  },
  {
   "cell_type": "markdown",
   "id": "norman-personality",
   "metadata": {},
   "source": [
    "### DATA SPLITTING"
   ]
  },
  {
   "cell_type": "code",
   "execution_count": null,
   "id": "exposed-polyester",
   "metadata": {},
   "outputs": [],
   "source": [
    "xtrain, xtest, ytrain, ytest = train_test_split(X_updated, Y, random_state=10,test_size=.20)"
   ]
  },
  {
   "cell_type": "code",
   "execution_count": null,
   "id": "absolute-basic",
   "metadata": {},
   "outputs": [],
   "source": [
    "xtrain.shape, xtest.shape"
   ]
  },
  {
   "cell_type": "markdown",
   "id": "straight-verification",
   "metadata": {},
   "source": [
    "### FEATURE SCALING"
   ]
  },
  {
   "cell_type": "code",
   "execution_count": null,
   "id": "current-symphony",
   "metadata": {},
   "outputs": [],
   "source": [
    "print(xtrain.max(), xtrain.min())\n",
    "print(xtest.max(), xtest.min())\n",
    "xtrain = xtrain/255\n",
    "xtest = xtest/255\n",
    "print(xtrain.max(), xtrain.min())\n",
    "print(xtest.max(), xtest.min())"
   ]
  },
  {
   "cell_type": "markdown",
   "id": "peaceful-freight",
   "metadata": {},
   "source": [
    "### FEATURE SELECTION: USING PCA"
   ]
  },
  {
   "cell_type": "code",
   "execution_count": null,
   "id": "cultural-treasurer",
   "metadata": {},
   "outputs": [],
   "source": [
    "from sklearn.decomposition import PCA"
   ]
  },
  {
   "cell_type": "code",
   "execution_count": null,
   "id": "intimate-kelly",
   "metadata": {},
   "outputs": [],
   "source": [
    "print(xtrain.shape, xtest.shape)\n",
    "\n",
    "pca = PCA(.98)\n",
    "pca_train = xtrain\n",
    "pca_test = xtest"
   ]
  },
  {
   "cell_type": "markdown",
   "id": "designing-vegetation",
   "metadata": {},
   "source": [
    "### TRAINING MODEL USING SVM AND LR\n"
   ]
  },
  {
   "cell_type": "code",
   "execution_count": null,
   "id": "statistical-shower",
   "metadata": {},
   "outputs": [],
   "source": [
    "from sklearn.linear_model import LogisticRegression\n",
    "from sklearn.svm import SVC"
   ]
  },
  {
   "cell_type": "code",
   "execution_count": null,
   "id": "congressional-photography",
   "metadata": {},
   "outputs": [],
   "source": [
    "import warnings\n",
    "warnings.filterwarnings('ignore')\n",
    "\n",
    "lg = LogisticRegression(C=0.1)\n",
    "lg.fit(xtrain, ytrain)"
   ]
  },
  {
   "cell_type": "code",
   "execution_count": null,
   "id": "genetic-kentucky",
   "metadata": {},
   "outputs": [],
   "source": [
    "sv = SVC()\n",
    "sv.fit(xtrain, ytrain)"
   ]
  },
  {
   "cell_type": "markdown",
   "id": "blocked-wilderness",
   "metadata": {},
   "source": [
    "### EVALUATION"
   ]
  },
  {
   "cell_type": "code",
   "execution_count": null,
   "id": "sublime-mozambique",
   "metadata": {},
   "outputs": [],
   "source": [
    "print(\"Training Score:\", lg.score(xtrain, ytrain))\n",
    "print(\"Testing Score:\", lg.score(xtest, ytest))"
   ]
  },
  {
   "cell_type": "code",
   "execution_count": null,
   "id": "prospective-monte",
   "metadata": {},
   "outputs": [],
   "source": [
    "print(\"Training Score:\", sv.score(xtrain, ytrain))\n",
    "print(\"Testing Score:\", sv.score(xtest, ytest))"
   ]
  },
  {
   "cell_type": "markdown",
   "id": "statewide-person",
   "metadata": {},
   "source": [
    "### PREDICTION"
   ]
  },
  {
   "cell_type": "code",
   "execution_count": null,
   "id": "integrated-bryan",
   "metadata": {},
   "outputs": [],
   "source": [
    "# using SVM\n",
    "\n",
    "pred = sv.predict(xtest)"
   ]
  },
  {
   "cell_type": "code",
   "execution_count": null,
   "id": "diverse-response",
   "metadata": {},
   "outputs": [],
   "source": [
    "# using Logistic Regression\n",
    "\n",
    "pred2 = lg.predict(xtest)"
   ]
  },
  {
   "cell_type": "code",
   "execution_count": null,
   "id": "continuous-casino",
   "metadata": {},
   "outputs": [],
   "source": [
    "misclassified=np.where(ytest!=pred)\n",
    "misclassified\n"
   ]
  },
  {
   "cell_type": "code",
   "execution_count": null,
   "id": "southeast-origin",
   "metadata": {},
   "outputs": [],
   "source": [
    "print(\"Total Misclassified Samples: \",len(misclassified[0]))\n",
    "print(pred[36],ytest[36])"
   ]
  },
  {
   "cell_type": "code",
   "execution_count": null,
   "id": "postal-antibody",
   "metadata": {},
   "outputs": [],
   "source": [
    "dec = {0:'anger', 1:'contempt', 2:'disgust', 3:'fear', 4:'happy', 5:'sadness', 6:'surprise'}"
   ]
  },
  {
   "cell_type": "markdown",
   "id": "shared-target",
   "metadata": {},
   "source": [
    "### TESTING MODEL"
   ]
  },
  {
   "cell_type": "markdown",
   "id": "resistant-layer",
   "metadata": {},
   "source": [
    "#### USING SVM"
   ]
  },
  {
   "cell_type": "code",
   "execution_count": null,
   "id": "alike-platform",
   "metadata": {},
   "outputs": [],
   "source": [
    "plt.figure(figsize=(12,8))\n",
    "p = os.listdir('CK+48/TestImages/')\n",
    "c=1\n",
    "for i in os.listdir('CK+48/TestImages/imgs/')[:9]:\n",
    "    plt.subplot(3,3,c)\n",
    "    \n",
    "    img = cv2.imread('CK+48/TestImages/imgs/'+i,0)\n",
    "    img1 = cv2.resize(img, (200,200))\n",
    "    img1 = img1.reshape(1,-1)/255\n",
    "    p = sv.predict(img1)\n",
    "    print(dec[p[0]])\n",
    "    plt.title(dec[p[0]])\n",
    "    plt.imshow(img, cmap='gray')\n",
    "    plt.axis('off')\n",
    "    c+=1"
   ]
  },
  {
   "cell_type": "code",
   "execution_count": null,
   "id": "confidential-congress",
   "metadata": {},
   "outputs": [],
   "source": [
    "\n",
    "from sklearn import metrics\n",
    "\n",
    "\n",
    "print( 'Accuracy : ' , metrics.accuracy_score(ytest, pred) )\n",
    "print( 'precision : ' , metrics.precision_score(ytest, pred, average='micro') )\n",
    "print( 'recall_score : ' , metrics.recall_score(ytest, pred, average='micro') )\n",
    "print( 'fbeta_score : ' , metrics.fbeta_score(ytest, pred , beta = 0.5 , average='micro') )"
   ]
  },
  {
   "cell_type": "code",
   "execution_count": null,
   "id": "commercial-assistant",
   "metadata": {},
   "outputs": [],
   "source": [
    "from sklearn.metrics import confusion_matrix\n",
    "import seaborn as sns\n",
    "\n",
    "\n",
    "cm = confusion_matrix(ytest, pred)\n",
    "plt.figure(figsize=(5,4))\n",
    "sns.heatmap(cm, annot=True)\n",
    "plt.title('Confusion Matrix')\n",
    "plt.ylabel('Actal Values')\n",
    "plt.xlabel('Predicted Values')\n",
    "plt.show()\n"
   ]
  },
  {
   "cell_type": "markdown",
   "id": "sharing-alarm",
   "metadata": {},
   "source": [
    "#### USING LOGISTIC REGRESSION"
   ]
  },
  {
   "cell_type": "code",
   "execution_count": null,
   "id": "senior-training",
   "metadata": {},
   "outputs": [],
   "source": [
    "plt.figure(figsize=(12,8))\n",
    "p = os.listdir('CK+48/TestImages/')\n",
    "c=1\n",
    "for i in os.listdir('CK+48/TestImages/imgs/')[:9]:\n",
    "    plt.subplot(3,3,c)\n",
    "    \n",
    "    img = cv2.imread('CK+48/TestImages/imgs/'+i,0)\n",
    "    img1 = cv2.resize(img, (200,200))\n",
    "    img1 = img1.reshape(1,-1)/255\n",
    "    p = lg.predict(img1)\n",
    "    print(dec[p[0]])\n",
    "    plt.title(dec[p[0]])\n",
    "    plt.imshow(img, cmap='gray')\n",
    "    plt.axis('off')\n",
    "    c+=1"
   ]
  },
  {
   "cell_type": "code",
   "execution_count": null,
   "id": "smaller-protocol",
   "metadata": {},
   "outputs": [],
   "source": [
    "\n",
    "from sklearn import metrics\n",
    "\n",
    "\n",
    "print( 'Accuracy : ' , metrics.accuracy_score(ytest, pred2) )\n",
    "print( 'precision : ' , metrics.precision_score(ytest, pred2, average='micro') )\n",
    "print( 'recall_score : ' , metrics.recall_score(ytest, pred2, average='micro') )\n",
    "print( 'fbeta_score : ' , metrics.fbeta_score(ytest, pred2 , beta = 0.5 , average='micro') )"
   ]
  },
  {
   "cell_type": "code",
   "execution_count": null,
   "id": "handled-advance",
   "metadata": {},
   "outputs": [],
   "source": [
    "cm2 = confusion_matrix(ytest, pred2)\n",
    "plt.figure(figsize=(5,4))\n",
    "sns.heatmap(cm2, annot=True)\n",
    "plt.title('Confusion Matrix')\n",
    "plt.ylabel('Actal Values')\n",
    "plt.xlabel('Predicted Values')\n",
    "plt.show()"
   ]
  },
  {
   "cell_type": "code",
   "execution_count": null,
   "id": "vocal-zambia",
   "metadata": {},
   "outputs": [],
   "source": [
    "from joblib import Parallel, delayed\n",
    "import joblib\n",
    "\n",
    "\n",
    "# Save the model as a pickle in a file\n",
    "joblib.dump(sv, 'filename.pkl')\n",
    "\n",
    "\n"
   ]
  },
  {
   "cell_type": "code",
   "execution_count": null,
   "id": "dried-immunology",
   "metadata": {},
   "outputs": [],
   "source": []
  },
  {
   "cell_type": "code",
   "execution_count": null,
   "id": "afraid-mileage",
   "metadata": {},
   "outputs": [],
   "source": []
  },
  {
   "cell_type": "code",
   "execution_count": null,
   "id": "basic-tower",
   "metadata": {},
   "outputs": [],
   "source": []
  }
 ],
 "metadata": {
  "kernelspec": {
   "display_name": "Python 3",
   "language": "python",
   "name": "python3"
  },
  "language_info": {
   "codemirror_mode": {
    "name": "ipython",
    "version": 3
   },
   "file_extension": ".py",
   "mimetype": "text/x-python",
   "name": "python",
   "nbconvert_exporter": "python",
   "pygments_lexer": "ipython3",
   "version": "3.8.6"
  }
 },
 "nbformat": 4,
 "nbformat_minor": 5
}
